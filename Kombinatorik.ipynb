{
 "cells": [
  {
   "cell_type": "markdown",
   "id": "9327f961",
   "metadata": {},
   "source": [
    "# Kombinatorik mit Python\n",
    "\n",
    "Der Computer ist ein sehr nützliches Werkzeug in der Mathematik. Wir können Dinge automatisch berechnen lassen, oder aufwendige Darstellungen schnell generieren lassen. Der Computer kann sogar für Beweise in der Mathematik verwendet werden, wenn es darum geht alle Möglichkeiten aufzuzählen und diese zu überprüfen.\n",
    "\n",
    "Dennoch ist es wichtig das wir die händischen Fähigkeiten der Mathematik beherrschen, denn nur so können wir den Computer überhaupt als Werkzeug verwenden. Um eine Problemstellung mit dem Computer zu lösen, müssen wir diese zuerst auf Papier lösen, damit wir diese auch sinnvoll im Computer eingeben können. Wenn man darin geübter ist, kann man dies auch direkt im Kopf machen, das braucht aber viel Übung und geht bei schwierigen Problemstellungen auch nicht mehr."
   ]
  },
  {
   "cell_type": "markdown",
   "id": "cf81724d",
   "metadata": {},
   "source": [
    "## Das Kartesische Produkt mit Python\n",
    "\n",
    "Beim kartesischen Produkt geht es darum dass Sie alle möglichen Paare bilden von verschiedenen Elementen. Wie man die Anzahl der Elemente berechnet, wissen Sie bereits, das ist die Produltregel aus der Kombinatorik. Wir können aber mit dem Computer auch ganz eifach alle Produkte ausrechnen lassen.\n",
    "\n",
    "Wir lösen die Aufgabe 14 aus dem Skript mit dem Computer vor. Gefragt ist wie viele Autoschilder Sie generieren können, wenn Sie einen der Buchstaben `A, B, C, D` vorne haben und eine der Zahlen `1, 2, 3, 4, 5` hinten.\n",
    "\n",
    "Wir möchten also alle Kombinationen von diesen Elementen erstellen lassen. Wie das geht wird in der folgenden Codezelle gezeigt:"
   ]
  },
  {
   "cell_type": "code",
   "execution_count": 13,
   "id": "6573ebf1",
   "metadata": {},
   "outputs": [
    {
     "name": "stdout",
     "output_type": "stream",
     "text": [
      "{('C', 3), ('A', 3), ('D', 2), ('B', 2), ('D', 5), ('B', 5), ('C', 2), ('A', 5), ('C', 5), ('A', 2), ('D', 4), ('D', 1), ('B', 1), ('B', 4), ('C', 4), ('A', 1), ('C', 1), ('A', 4), ('D', 3), ('B', 3)}\n",
      "Anzahl der Elemente im Produkt: 20\n"
     ]
    }
   ],
   "source": [
    "# Importiere die nötigen Funktionen\n",
    "from itertools import product\n",
    "\n",
    "# Erstelle die beiden Listen\n",
    "front = ['A', 'B', 'C', 'D']\n",
    "back = [1, 2, 3, 4, 5]\n",
    "\n",
    "# Berechne das Produkt aus den beiden Listen\n",
    "result = product(front, back)\n",
    "\n",
    "# Das Resultat kann so noch nicht direkt ausgegeben werden, wir können es aber zu einer Liste oder Menge umwandeln\n",
    "# Wenn wir die Funktion `set()` verwenden, werden Duplikate direkt gestrichen falls es welche gibt.\n",
    "result = set(result)\n",
    "print(result)\n",
    "\n",
    "# Berchne die Anzahl der Elemente im Produkt\n",
    "n = len(result)\n",
    "print(f\"Anzahl der Elemente im Produkt: {n}\")"
   ]
  },
  {
   "cell_type": "markdown",
   "id": "748700b7",
   "metadata": {},
   "source": [
    "## Werfen von 2 Würfeln\n",
    "\n",
    "Wir können auch alle Kombinationen von 2 Würfeln (oder sogar noch mehr) erzeugen lassen. In der nachfolgenden Zelle ist beschrieben wie wir das machen können."
   ]
  },
  {
   "cell_type": "code",
   "execution_count": 18,
   "id": "a1ddf922",
   "metadata": {},
   "outputs": [
    {
     "name": "stdout",
     "output_type": "stream",
     "text": [
      "[(1, 1), (1, 2), (1, 3), (1, 4), (1, 5), (1, 6), (2, 1), (2, 2), (2, 3), (2, 4), (2, 5), (2, 6), (3, 1), (3, 2), (3, 3), (3, 4), (3, 5), (3, 6), (4, 1), (4, 2), (4, 3), (4, 4), (4, 5), (4, 6), (5, 1), (5, 2), (5, 3), (5, 4), (5, 5), (5, 6), (6, 1), (6, 2), (6, 3), (6, 4), (6, 5), (6, 6)]\n",
      "Elemente im Produkt: 36\n"
     ]
    }
   ],
   "source": [
    "# Die Importe sind nicht mehr nötig wenn die obere Zelle bereits ausgeführt wurde, so kann diese Zelle aber als Standalone verwendet werden.\n",
    "from itertools import product\n",
    "\n",
    "# Damit wir nicht alle Zahlen aufzählen müssen, können wir `range()` verwenden.\n",
    "# Bei `range()` gehört die obere Granze nicht dazu\n",
    "# Damit wir eine Liste erhalten, brauchen wir die Funktion `list()`\n",
    "dice = list(range(1, 7))\n",
    "\n",
    "# Berechne das Produkt mit 2 Würfeln und wandle das Produkt in eine Liste um\n",
    "result = list(product(dice, repeat=2))\n",
    "\n",
    "print(result)\n",
    "print(f\"Elemente im Produkt: {len(result)}\")"
   ]
  },
  {
   "cell_type": "markdown",
   "id": "8201c4bd",
   "metadata": {},
   "source": [
    "### Mehr Würfel in einem Wurf\n",
    "\n",
    "Sie können auch ganz eifach mehrere Würfel nehmen, dafür müssen Sie nur das `repeat=n` höher setzen."
   ]
  },
  {
   "cell_type": "code",
   "execution_count": 24,
   "id": "14873df3",
   "metadata": {},
   "outputs": [
    {
     "name": "stdout",
     "output_type": "stream",
     "text": [
      "[(1, 1, 1), (1, 1, 2), (1, 1, 3), (1, 1, 4), (1, 1, 5), (1, 1, 6), (1, 2, 1), (1, 2, 2), (1, 2, 3), (1, 2, 4), (1, 2, 5), (1, 2, 6), (1, 3, 1), (1, 3, 2), (1, 3, 3), (1, 3, 4), (1, 3, 5), (1, 3, 6), (1, 4, 1), (1, 4, 2), (1, 4, 3), (1, 4, 4), (1, 4, 5), (1, 4, 6), (1, 5, 1), (1, 5, 2), (1, 5, 3), (1, 5, 4), (1, 5, 5), (1, 5, 6), (1, 6, 1), (1, 6, 2), (1, 6, 3), (1, 6, 4), (1, 6, 5), (1, 6, 6), (2, 1, 1), (2, 1, 2), (2, 1, 3), (2, 1, 4), (2, 1, 5), (2, 1, 6), (2, 2, 1), (2, 2, 2), (2, 2, 3), (2, 2, 4), (2, 2, 5), (2, 2, 6), (2, 3, 1), (2, 3, 2), (2, 3, 3), (2, 3, 4), (2, 3, 5), (2, 3, 6), (2, 4, 1), (2, 4, 2), (2, 4, 3), (2, 4, 4), (2, 4, 5), (2, 4, 6), (2, 5, 1), (2, 5, 2), (2, 5, 3), (2, 5, 4), (2, 5, 5), (2, 5, 6), (2, 6, 1), (2, 6, 2), (2, 6, 3), (2, 6, 4), (2, 6, 5), (2, 6, 6), (3, 1, 1), (3, 1, 2), (3, 1, 3), (3, 1, 4), (3, 1, 5), (3, 1, 6), (3, 2, 1), (3, 2, 2), (3, 2, 3), (3, 2, 4), (3, 2, 5), (3, 2, 6), (3, 3, 1), (3, 3, 2), (3, 3, 3), (3, 3, 4), (3, 3, 5), (3, 3, 6), (3, 4, 1), (3, 4, 2), (3, 4, 3), (3, 4, 4), (3, 4, 5), (3, 4, 6), (3, 5, 1), (3, 5, 2), (3, 5, 3), (3, 5, 4), (3, 5, 5), (3, 5, 6), (3, 6, 1), (3, 6, 2), (3, 6, 3), (3, 6, 4), (3, 6, 5), (3, 6, 6), (4, 1, 1), (4, 1, 2), (4, 1, 3), (4, 1, 4), (4, 1, 5), (4, 1, 6), (4, 2, 1), (4, 2, 2), (4, 2, 3), (4, 2, 4), (4, 2, 5), (4, 2, 6), (4, 3, 1), (4, 3, 2), (4, 3, 3), (4, 3, 4), (4, 3, 5), (4, 3, 6), (4, 4, 1), (4, 4, 2), (4, 4, 3), (4, 4, 4), (4, 4, 5), (4, 4, 6), (4, 5, 1), (4, 5, 2), (4, 5, 3), (4, 5, 4), (4, 5, 5), (4, 5, 6), (4, 6, 1), (4, 6, 2), (4, 6, 3), (4, 6, 4), (4, 6, 5), (4, 6, 6), (5, 1, 1), (5, 1, 2), (5, 1, 3), (5, 1, 4), (5, 1, 5), (5, 1, 6), (5, 2, 1), (5, 2, 2), (5, 2, 3), (5, 2, 4), (5, 2, 5), (5, 2, 6), (5, 3, 1), (5, 3, 2), (5, 3, 3), (5, 3, 4), (5, 3, 5), (5, 3, 6), (5, 4, 1), (5, 4, 2), (5, 4, 3), (5, 4, 4), (5, 4, 5), (5, 4, 6), (5, 5, 1), (5, 5, 2), (5, 5, 3), (5, 5, 4), (5, 5, 5), (5, 5, 6), (5, 6, 1), (5, 6, 2), (5, 6, 3), (5, 6, 4), (5, 6, 5), (5, 6, 6), (6, 1, 1), (6, 1, 2), (6, 1, 3), (6, 1, 4), (6, 1, 5), (6, 1, 6), (6, 2, 1), (6, 2, 2), (6, 2, 3), (6, 2, 4), (6, 2, 5), (6, 2, 6), (6, 3, 1), (6, 3, 2), (6, 3, 3), (6, 3, 4), (6, 3, 5), (6, 3, 6), (6, 4, 1), (6, 4, 2), (6, 4, 3), (6, 4, 4), (6, 4, 5), (6, 4, 6), (6, 5, 1), (6, 5, 2), (6, 5, 3), (6, 5, 4), (6, 5, 5), (6, 5, 6), (6, 6, 1), (6, 6, 2), (6, 6, 3), (6, 6, 4), (6, 6, 5), (6, 6, 6)]\n",
      "Elemente im Produkt: 216\n"
     ]
    }
   ],
   "source": [
    "# Listen und importe werden nicht gebraucht wenn die Zelle davor bereits ausgeführt wurde\n",
    "\n",
    "# Das `repeat` gibt an wie oft eine Liste in das Produkt einfliesst.\n",
    "result = list(product(dice, repeat=3))\n",
    "\n",
    "print(result)\n",
    "print(f\"Elemente im Produkt: {len(result)}\")"
   ]
  },
  {
   "cell_type": "markdown",
   "id": "737aeeb3",
   "metadata": {},
   "source": [
    "## Resultate Filtern\n",
    "\n",
    "Oftmals sind wir ja nicht nur am ganzen Zustandsraum interessiert, sondern auch an Ereignissen. Ereignisse sind einfach nur eine Teilmenge von dem Zustandsraum, also eine Auswahl von bestimmten Elementen die im Zustandsraum vorhanden sind. Das auswählen von diesen Elementen nennt man in der Informatik **filtern**, und kann mit Python sehr einfach umgesetzt werden."
   ]
  },
  {
   "cell_type": "code",
   "execution_count": 29,
   "id": "31cd88ae",
   "metadata": {},
   "outputs": [
    {
     "name": "stdout",
     "output_type": "stream",
     "text": [
      "[(1, 6, 6), (2, 5, 6), (2, 6, 5), (2, 6, 6), (3, 4, 6), (3, 5, 5), (3, 5, 6), (3, 6, 4), (3, 6, 5), (3, 6, 6), (4, 3, 6), (4, 4, 5), (4, 4, 6), (4, 5, 4), (4, 5, 5), (4, 5, 6), (4, 6, 3), (4, 6, 4), (4, 6, 5), (4, 6, 6), (5, 2, 6), (5, 3, 5), (5, 3, 6), (5, 4, 4), (5, 4, 5), (5, 4, 6), (5, 5, 3), (5, 5, 4), (5, 5, 5), (5, 5, 6), (5, 6, 2), (5, 6, 3), (5, 6, 4), (5, 6, 5), (5, 6, 6), (6, 1, 6), (6, 2, 5), (6, 2, 6), (6, 3, 4), (6, 3, 5), (6, 3, 6), (6, 4, 3), (6, 4, 4), (6, 4, 5), (6, 4, 6), (6, 5, 2), (6, 5, 3), (6, 5, 4), (6, 5, 5), (6, 5, 6), (6, 6, 1), (6, 6, 2), (6, 6, 3), (6, 6, 4), (6, 6, 5), (6, 6, 6)]\n",
      "Anzahl Elemente im Ereignis: 56\n"
     ]
    }
   ],
   "source": [
    "# Das ist die Filterfunktion die wir verwenden werden\n",
    "# x ist jedes Element im Zustandsraum, darauf können wir dann eine Bedingung überprüfen\n",
    "# ist die Bedingung erfüllt, geben wir True zurück, und das Element wird für das Ereignis ausgewählt\n",
    "# ist die Bedingung nicht erfüllt, geben wir False zurück, und das Element wird NICHT ausgewählt\n",
    "def filter_func(x):\n",
    "    # Prüft ob die Summe der 3 Würfelaugen grösser als 12 ist\n",
    "    if sum(x) > 12:\n",
    "        return True\n",
    "    return False\n",
    "\n",
    "# Die Funktion `filter` nimmt eine Filterfunktion und eine Liste entgegen. Sie gibt dann jedes Element\n",
    "# aus der Liste an die Filterfunktion weiter. Alle Elemente die von der Filterfunktion ein True\n",
    "# erhalten haben, landen im Ereignis.\n",
    "B = filter(filter_func, result)\n",
    "\n",
    "# Am ende muss wieder eine Liste daraus gemacht werden.\n",
    "B = list(B)\n",
    "\n",
    "# Gib das Ereignis aus\n",
    "print(B)\n",
    "print(f\"Anzahl Elemente im Ereignis: {len(B)}\")"
   ]
  },
  {
   "cell_type": "markdown",
   "id": "e632adb4",
   "metadata": {},
   "source": [
    "## Wahrscheinlichkeiten ausrechnen\n",
    "\n",
    "Sie können dann ganz einfach Wahrscheinlichkeiten berechnen. Da diese auf der Anzahl Elemente im Ereignis und im Zustandsraum definiert ist, können wir dafür eine neue Funktion erstellen, welche uns die Berechnung einfacher machen kann."
   ]
  },
  {
   "cell_type": "code",
   "execution_count": 31,
   "id": "aa842eec",
   "metadata": {},
   "outputs": [
    {
     "name": "stdout",
     "output_type": "stream",
     "text": [
      "7/27\n"
     ]
    }
   ],
   "source": [
    "# Importiere Brüche in Python, damit können wir angenehmer mit Wahrscheinlichkeiten arbeiten\n",
    "from fractions import Fraction\n",
    "\n",
    "# Berechnet die Wahrscheinlichkeit von einem Ereignis, wenn auch der Zustandsraum gegeben wird.\n",
    "def prob(A, Z):\n",
    "    # Wir möchten die Wahrscheinlichkeit direkt als Bruch darstellen, das machen wir mit Fraction\n",
    "    return Fraction(len(A), len(Z))\n",
    "\n",
    "\n",
    "# Berechne die Wahrscheinlichkeit und gebe sie als Bruch aus\n",
    "# B und result kommen von Zellen weiter oben!! Vorsicht falls diese überschrieben wurden!!!\n",
    "print(prob(B, result))"
   ]
  }
 ],
 "metadata": {
  "kernelspec": {
   "display_name": "Python 3 (ipykernel)",
   "language": "python",
   "name": "python3"
  },
  "language_info": {
   "codemirror_mode": {
    "name": "ipython",
    "version": 3
   },
   "file_extension": ".py",
   "mimetype": "text/x-python",
   "name": "python",
   "nbconvert_exporter": "python",
   "pygments_lexer": "ipython3",
   "version": "3.10.5"
  }
 },
 "nbformat": 4,
 "nbformat_minor": 5
}

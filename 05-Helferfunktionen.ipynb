{
 "cells": [
  {
   "cell_type": "markdown",
   "metadata": {},
   "source": [
    "# Helferfunktionen\n",
    "\n",
    "Der Computer kann zwar das Denken für uns nicht übernehmen, aber dafür das Rechnen. Damit dies schnell und praktisch ist, definieren wir uns verschiedene Helferfunktionen. Oft existieren diese bereits in verschiedenen Bibliotheken, aber für dieses Kapitel sind die Funktionen sehr einfach, und wir können diese aus den Definitionen vom Skript abschreiben."
   ]
  },
  {
   "cell_type": "markdown",
   "metadata": {},
   "source": [
    "## Wahrscheinlichkeit\n",
    "\n",
    "Die Formel für die Laplace-Wahrscheinlichkeit haben wir bereits definiert, aber wir machen es hier nochmals:\n",
    "\n",
    "$$ P(A) = \\frac{\\vert A \\vert}{\\vert \\Omega \\vert} $$\n",
    "\n",
    "In Code umgesetzt kann es dann so aussehen:"
   ]
  },
  {
   "cell_type": "code",
   "execution_count": 1,
   "metadata": {},
   "outputs": [
    {
     "data": {
      "text/plain": [
       "Fraction(3, 5)"
      ]
     },
     "execution_count": 1,
     "metadata": {},
     "output_type": "execute_result"
    }
   ],
   "source": [
    "from fractions import Fraction\n",
    "\n",
    "def prob(a, omega):\n",
    "    return Fraction(a, omega)\n",
    "\n",
    "prob(3, 5)"
   ]
  },
  {
   "cell_type": "markdown",
   "metadata": {},
   "source": [
    "Hier haben wir die Funktion so definiert das wir direkt die Anzahl Elemente pro Menge eingeben können. Weiter vorne haben wir die Funktion so definiert, das wir die Mengen selbt der Funktion übergeben haben. Was praktisches ist, kommt dan jeweils auf den Usecase an."
   ]
  },
  {
   "cell_type": "markdown",
   "metadata": {},
   "source": [
    "## Weitere Funktionen\n",
    "\n",
    "Weiter Funktionen die sehr oft gebraucht werden, sind `nCr` und `nPr`.\n",
    "\n",
    "Die Funktion `nPr` ist für Variation ohne Wiederholung. Diese wird im Skript wie folgt berechnet:\n",
    "\n",
    "$$ \\frac{n!}{(n-k)!} $$\n",
    "\n",
    "Im Code würde das so aussehen:"
   ]
  },
  {
   "cell_type": "code",
   "execution_count": 2,
   "metadata": {},
   "outputs": [
    {
     "data": {
      "text/plain": [
       "20160.0"
      ]
     },
     "execution_count": 2,
     "metadata": {},
     "output_type": "execute_result"
    }
   ],
   "source": [
    "from math import factorial\n",
    "\n",
    "def nPr(n, k):\n",
    "    return factorial(n) / factorial(n - k)\n",
    "\n",
    "nPr(8, 6)"
   ]
  },
  {
   "cell_type": "markdown",
   "metadata": {},
   "source": [
    "Die Funktion `nCr` wird für Kombinationen ohne Wiederholung verwendet, und ist gerade der Binomialkoeffizient:\n",
    "\n",
    "$$ \\begin{pmatrix} n \\\\ k \\end{pmatrix} = \\frac{n!}{k! \\cdot (n-k)!} $$\n",
    "\n",
    "Im Code würde das so aussehen:"
   ]
  },
  {
   "cell_type": "code",
   "execution_count": 5,
   "metadata": {},
   "outputs": [
    {
     "data": {
      "text/plain": [
       "10.0"
      ]
     },
     "execution_count": 5,
     "metadata": {},
     "output_type": "execute_result"
    }
   ],
   "source": [
    "from math import factorial\n",
    "\n",
    "def nCr(n, k):\n",
    "    return factorial(n) / ( factorial(k) * factorial(n - k) )\n",
    "\n",
    "nCr(5, 2)"
   ]
  }
 ],
 "metadata": {
  "interpreter": {
   "hash": "79e3146108afc849dd587a70bd09a26b66f25d4aa745b1308e0d3b4a6d6d0d01"
  },
  "kernelspec": {
   "display_name": "Python 3.10.7 ('venv': venv)",
   "language": "python",
   "name": "python3"
  },
  "language_info": {
   "codemirror_mode": {
    "name": "ipython",
    "version": 3
   },
   "file_extension": ".py",
   "mimetype": "text/x-python",
   "name": "python",
   "nbconvert_exporter": "python",
   "pygments_lexer": "ipython3",
   "version": "3.10.7"
  },
  "orig_nbformat": 4
 },
 "nbformat": 4,
 "nbformat_minor": 2
}

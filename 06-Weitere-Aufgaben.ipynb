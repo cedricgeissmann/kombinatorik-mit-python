{
 "cells": [
  {
   "cell_type": "markdown",
   "metadata": {},
   "source": [
    "# Weitere Aufgaben\n",
    "\n",
    "Wir lösen hier die Aufgabe 27 aus dem Skript zusammen. In der Zelle unten ist das Gerüst schon mal vorbereitet."
   ]
  },
  {
   "cell_type": "code",
   "execution_count": null,
   "metadata": {},
   "outputs": [],
   "source": [
    "from itertools import permutations\n",
    "\n",
    "li = [6,3,5,2,7,9]\n",
    "\n",
    "li_3 = permutations(li, 3)\n",
    "sum(1 for _ in li_3)"
   ]
  },
  {
   "cell_type": "markdown",
   "metadata": {},
   "source": [
    "## Aufgabe 28\n",
    "\n",
    "Wir lösen zuerst Teil (a). Dieser ist in der Zelle bereits vorgegeben, dann lösen wir zusammen den Teil (b) und entwickeln dabei den Code."
   ]
  },
  {
   "cell_type": "code",
   "execution_count": 26,
   "metadata": {},
   "outputs": [
    {
     "data": {
      "text/plain": [
       "735471"
      ]
     },
     "execution_count": 26,
     "metadata": {},
     "output_type": "execute_result"
    }
   ],
   "source": [
    "from itertools import combinations\n",
    "\n",
    "li = range(24)\n",
    "\n",
    "comb = combinations(li, 8)\n",
    "sum(1 for _ in comb)"
   ]
  },
  {
   "cell_type": "markdown",
   "metadata": {},
   "source": [
    "## Aufgabe 29\n",
    "\n",
    "Bei einem Schachturnier mit 10 Teilnehmern spielt jeder gegen jeden. Wieviele Partien werden gespielt?\n",
    "\n",
    "Um zu sehen ob wir richtig überlegen, lassen wir mal alle Spiele anzeigen, für eine kleinere Anzahl an Spielern, dann können wir das ganze auch überprüfen."
   ]
  },
  {
   "cell_type": "code",
   "execution_count": 30,
   "metadata": {},
   "outputs": [
    {
     "name": "stdout",
     "output_type": "stream",
     "text": [
      "Partie 1: Spieler-0 vs. Spieler-1\n",
      "Partie 2: Spieler-0 vs. Spieler-2\n",
      "Partie 3: Spieler-0 vs. Spieler-3\n",
      "Partie 4: Spieler-1 vs. Spieler-2\n",
      "Partie 5: Spieler-1 vs. Spieler-3\n",
      "Partie 6: Spieler-2 vs. Spieler-3\n"
     ]
    }
   ],
   "source": [
    "from itertools import combinations\n",
    "\n",
    "li = range(4)  # Gibt eine Liste von 0-3, damit bezeichnen wir die jeweiligen Spieler\n",
    "\n",
    "# Wähle nun alle Kombinationen von 2 Spielern aus, das beschriebt jeweils eine Parie.\n",
    "games = combinations(li, 2)\n",
    "for i, g in enumerate(games):\n",
    "    print(f\"Partie {i+1}: Spieler-{g[0]} vs. Spieler-{g[1]}\")"
   ]
  },
  {
   "cell_type": "markdown",
   "metadata": {},
   "source": [
    "## Aufgabe 30\n",
    "\n",
    "Wieviele Schnittpunkte besitzen $n$ Geraden maximal?\n",
    "\n",
    "Weil nach dem Maximum gefragt ist, können wir davon ausgehen das keine der Geraden parallel sind, oder zusammenfallen. Wir nehmen ausserdem an, dass keine der Schnittpunkte zusammenfallen.\n",
    "\n",
    "Die folgende Überlegung bringt uns dann zum Ziel. Nehmen wir einen Haufen Geraden und nummerieren alle Geraden in diesem Haufen. Wählen wir nun zufällig 2 Geraden aus, muss es einen Schnittpunkt geben. Also erhalten wir alle Schnittpunkte, wenn wir alle Geraden paarweise auswählen.\n",
    "\n",
    "Wir können das im Code mal darstellen, das Funktioniert genau gleich wie bei der letzten Aufgabe."
   ]
  },
  {
   "cell_type": "code",
   "execution_count": 31,
   "metadata": {},
   "outputs": [
    {
     "data": {
      "text/plain": [
       "120"
      ]
     },
     "execution_count": 31,
     "metadata": {},
     "output_type": "execute_result"
    }
   ],
   "source": [
    "from itertools import combinations\n",
    "\n",
    "li = range(16)  # Erstelle einen Haufen mit 16 Geraden\n",
    "\n",
    "sum(1 for _ in combinations(li, 2)) # Zähle die Anzahl Schnittpunkte in dem Haufen"
   ]
  },
  {
   "cell_type": "markdown",
   "metadata": {},
   "source": [
    "## Aufgabe 31\n",
    "\n",
    "Wieviele Mitglieder hat eine Klasse wenn es 253 Auswahlmöglichkeiten für 2 Delegierte gibt?\n",
    "\n",
    "Statt es zu berechnen, können wir es auch ertesten. Dafür ist der Computer sehr praktisch. Die Aufgabe folgt wieder dem gleichen Schema wie die letzten beiden Aufgaben, wie können das also kopieren."
   ]
  },
  {
   "cell_type": "code",
   "execution_count": 32,
   "metadata": {},
   "outputs": [
    {
     "name": "stdout",
     "output_type": "stream",
     "text": [
      "16 120\n",
      "17 136\n",
      "18 153\n",
      "19 171\n",
      "20 190\n",
      "21 210\n",
      "22 231\n",
      "23 253\n",
      "24 276\n"
     ]
    }
   ],
   "source": [
    "from itertools import combinations\n",
    "\n",
    "# Wir wissen das es in einem Haufen von 16 Geraden keine 253 Schnittpunkte gegeben hat,\n",
    "# also können wir davon ausgehen dass es mehr als 16 SuS sein müssen.\n",
    "# Ausserdem hat eine normale Klasse nicht mehr als 24 SuS, deshalb setzen wir mal ein\n",
    "# oberes Limit. Das können wir dann immernoch erhöhen.\n",
    "# Jetzt probieren wir das für alle Klassengrössen durch, und schauen uns an wieviele\n",
    "# Möglichkeiten es gibt.\n",
    "for i in range(16, 25):\n",
    "    li = range(i)\n",
    "    s = sum(1 for _ in combinations(li, 2))\n",
    "    print(i, s)"
   ]
  },
  {
   "cell_type": "markdown",
   "metadata": {},
   "source": [
    "Wir finden eine Lösung für 23 SuS. Aber könnten wir das auch analytisch lösen? Das können wir natürlich, denn wir berechnen hier ja nur den Binomialkoeffizienten $\\begin{pmatrix}n\\\\k\\end{pmatrix}$. In unserem Fall ist $k=2$ und $n$ ist unbekannt, daraus ergibt sich die folgende Gleichung:\n",
    "\n",
    "$$\\begin{pmatrix}n\\\\ 2 \\end{pmatrix} = \\frac{n!}{2! \\cdot (n-2)!} = 253 $$\n",
    "\n",
    "Mit ein paar Vereinfachungsschritten, erhalten wir:\n",
    "\n",
    "$$\n",
    "\\begin{align*}\n",
    "    \\frac{n \\cdot (n-1)}{2} &= 253 \\\\\n",
    "    n^2 - n - 506 &= 0 \\\\\n",
    "    n_{1,2} &= \\frac{1 \\pm \\sqrt{1 + 4\\cdot 506}}{2} \\\\\n",
    "    n_{1,2} &= \\frac{1 \\pm 45}{2}\n",
    "\\end{align*}    \n",
    "$$\n",
    "\n",
    "Weil wir keine negative Anzahl an SuS in einer Klasse haben können, folgt daraus die Lösung $n_1 = 23$."
   ]
  },
  {
   "cell_type": "markdown",
   "metadata": {},
   "source": [
    "## Aufgabe 32\n",
    "\n",
    "Bei dieser Aufgabe verwenden wir einen Trick bei der Nummerierung. Wir haben einfach gleiche Elemente in der Liste, dann können wir gleich wie bei den vorherigen Aufgaben arbeiten."
   ]
  },
  {
   "cell_type": "code",
   "execution_count": 33,
   "metadata": {},
   "outputs": [
    {
     "data": {
      "text/plain": [
       "715"
      ]
     },
     "execution_count": 33,
     "metadata": {},
     "output_type": "execute_result"
    }
   ],
   "source": [
    "## Aufgabe 32 a\n",
    "from itertools import combinations\n",
    "\n",
    "li = ['m', 'm', 'm', 'm', 'm', 'm', 'm', 'm', 'm', 'w', 'w', 'w', 'w']\n",
    "\n",
    "sol = combinations(li, 4)\n",
    "sum(1 for _ in sol)"
   ]
  },
  {
   "cell_type": "code",
   "execution_count": 40,
   "metadata": {},
   "outputs": [
    {
     "data": {
      "text/plain": [
       "589"
      ]
     },
     "execution_count": 40,
     "metadata": {},
     "output_type": "execute_result"
    }
   ],
   "source": [
    "## Aufgabe 32 b\n",
    "from itertools import combinations\n",
    "\n",
    "li = ['m', 'm', 'm', 'm', 'm', 'm', 'm', 'm', 'm', 'w', 'w', 'w', 'w']\n",
    "\n",
    "def min_1_w(x):\n",
    "    return 'w' in x\n",
    "\n",
    "sol = filter(min_1_w, combinations(li, 4))\n",
    "\n",
    "sum(1 for _ in sol)"
   ]
  },
  {
   "cell_type": "code",
   "execution_count": 39,
   "metadata": {},
   "outputs": [
    {
     "data": {
      "text/plain": [
       "0"
      ]
     },
     "execution_count": 39,
     "metadata": {},
     "output_type": "execute_result"
    }
   ],
   "source": [
    "## Aufgabe 32 c\n",
    "from itertools import combinations\n",
    "\n",
    "li = ['m', 'm', 'm', 'm', 'm', 'm', 'm', 'm', 'm', 'w', 'w', 'w', 'w']\n",
    "\n",
    "def exact_1_w(x):\n",
    "    # muss noch implementiert werden\n",
    "    return False\n",
    "    \n",
    "\n",
    "sol = filter(exact_1_w, combinations(li, 4))\n",
    "\n",
    "sum(1 for _ in sol)"
   ]
  },
  {
   "cell_type": "code",
   "execution_count": null,
   "metadata": {},
   "outputs": [],
   "source": []
  }
 ],
 "metadata": {
  "interpreter": {
   "hash": "79e3146108afc849dd587a70bd09a26b66f25d4aa745b1308e0d3b4a6d6d0d01"
  },
  "kernelspec": {
   "display_name": "Python 3.10.7 ('venv': venv)",
   "language": "python",
   "name": "python3"
  },
  "language_info": {
   "codemirror_mode": {
    "name": "ipython",
    "version": 3
   },
   "file_extension": ".py",
   "mimetype": "text/x-python",
   "name": "python",
   "nbconvert_exporter": "python",
   "pygments_lexer": "ipython3",
   "version": "3.10.7"
  },
  "orig_nbformat": 4
 },
 "nbformat": 4,
 "nbformat_minor": 2
}

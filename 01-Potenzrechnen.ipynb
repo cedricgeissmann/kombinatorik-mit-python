{
 "cells": [
  {
   "cell_type": "markdown",
   "metadata": {},
   "source": [
    "# Potenzrechnen Üben\n",
    "\n",
    "Der beste Weg um im Potenzrechnen sicher zu werden, ist wenn Sie einfach viel üben. Das rechnen mit Potenzen kommt in der Mathematik immer wieder vor, Sie sollten darin also sicher sein. Ausserhalb der Mathematik wird es nicht sehr häufig gebraucht. Jedoch ist das wiederholte Anwenden von klar definierten Regeln durchaus in anderen Bereichen von Vorteil. Ausserdem ist es ein guten Gehirntraining. Es gibt Ihnen auch mehr Sicherheit in der Mathematik wenn Sie wissen das Sie sicher rechnen können.\n",
    "\n",
    "Der beste Weg das Potenzrechnen zu trainieren ist es, es immer wieder anzuwenden. Dafür ist dieses Tool gemacht. Sie können Sich einen zufälligen Term erstellen lassen, welchen Sie dann so weit wie für Sie möglich vereinfachen. Sie können in jedem Schritt überprüfen ob Sie richtig gerechnet haben."
   ]
  },
  {
   "cell_type": "markdown",
   "metadata": {},
   "source": [
    "## Importiere die nötigen Bibliotheken\n",
    "\n",
    "Die nächste Zelle importiert die notwendigen Bibliotheken. Diese Zelle muss am Anfang immer ausgeführt werden, ansonsten können Sie das Tool nicht verwenden.\n",
    "\n",
    "### Symbole\n",
    "\n",
    "Die zweite Zeile in dem Import, erstellt Ihnen die mathematischen Symbole (alle Buchstaben mit nur einem Zeichen). Sie können diese direkt als Variablen verwenden. Passen Sie jedoch auf das Sie nichts in einer Variable mit nur einem Zeichen speiechern. Wenn sich das Notebook merkwürdig verhält, dann laden Sie es nochmals neu und führen Sie diese Zelle aus."
   ]
  },
  {
   "cell_type": "code",
   "execution_count": 1,
   "metadata": {},
   "outputs": [],
   "source": [
    "from lib.potentials import *\n",
    "from sympy.abc import *"
   ]
  },
  {
   "cell_type": "markdown",
   "metadata": {},
   "source": [
    "## Neue Aufgabe erstellen\n",
    "\n",
    "In der nächsten Zelle wird gezeigt wie Sie eine neue Aufgabe erstellen können. Das Tool erzeugt Ihnen einen Term den Sie vereinfachen sollen. Da die Terme zufällig generiert sind, ist es schwer die Schwierigkeit zu kontrollieren. Wenn Sie einen Term zu schwierig oder zu einfach finden, führen Sie die Zelle einfach nochmals aus."
   ]
  },
  {
   "cell_type": "code",
   "execution_count": 2,
   "metadata": {},
   "outputs": [
    {
     "data": {
      "text/plain": [
       "'Vereinfache diesen Ausdruck: '"
      ]
     },
     "metadata": {},
     "output_type": "display_data"
    },
    {
     "data": {
      "text/latex": [
       "$\\displaystyle \\frac{a^{\\frac{5}{4}} b^{5} c^{9} f^{\\frac{3}{2}}}{\\sqrt[3]{e}} \\frac{a^{5} \\sqrt[3]{e} \\sqrt{f}}{a^{\\frac{25}{4}} c^{2}}$"
      ],
      "text/plain": [
       "(a**(5/4)*b**5*c**9*f**(3/2)/e**(1/3))*(a**5*e**(1/3)*sqrt(f)/(a**(25/4)*c**2))"
      ]
     },
     "metadata": {},
     "output_type": "display_data"
    }
   ],
   "source": [
    "ex = Exercise()"
   ]
  },
  {
   "cell_type": "markdown",
   "metadata": {},
   "source": [
    "## Lösung überprüfen\n",
    "\n",
    "In der nächsten Zelle wird gezeigt wie Sie Ihre Lösung überprüfen können. Dabei müssen Sie Ihren Term so eingeben das Python ihn lesen kann. Dabei gilt es die folgenden Dinge zu beachten.\n",
    "\n",
    "- Variablen können direkt als Buchstaben verwendet werden\n",
    "- Das Multiplikationszeichen (`*`) muss immer geschrieben werden\n",
    "- Potenzen schreiben Sie in Python mit (`**`)\n",
    "- Wurzeln schreiben Sie als Potenzen mit Brüchen\n",
    "- Brüche schreiben Sie so: `Rational(4, 7)` oder `Rational(4/7)`\n",
    "\n",
    "## Auch als Zeichenkette möglich\n",
    "\n",
    "Weiter unten wird beschrieben wie man Terme auch als Zeichenkette eingeben kann. Das kann einige Dinge vereinfachen."
   ]
  },
  {
   "cell_type": "code",
   "execution_count": 3,
   "metadata": {},
   "outputs": [
    {
     "data": {
      "text/plain": [
       "'Leider falsch...'"
      ]
     },
     "metadata": {},
     "output_type": "display_data"
    },
    {
     "data": {
      "text/latex": [
       "$\\displaystyle \\sqrt[4]{a}$"
      ],
      "text/plain": [
       "a**(1/4)"
      ]
     },
     "metadata": {},
     "output_type": "display_data"
    },
    {
     "data": {
      "text/plain": [
       "'ist nicht gleich'"
      ]
     },
     "metadata": {},
     "output_type": "display_data"
    },
    {
     "data": {
      "text/latex": [
       "$\\displaystyle \\frac{a^{\\frac{5}{4}} b^{5} c^{9} f^{\\frac{3}{2}}}{\\sqrt[3]{e}} \\frac{a^{5} \\sqrt[3]{e} \\sqrt{f}}{a^{\\frac{25}{4}} c^{2}}$"
      ],
      "text/plain": [
       "(a**(5/4)*b**5*c**9*f**(3/2)/e**(1/3))*(a**5*e**(1/3)*sqrt(f)/(a**(25/4)*c**2))"
      ]
     },
     "metadata": {},
     "output_type": "display_data"
    }
   ],
   "source": [
    "ex.check_solution(a**Rational(1/4))"
   ]
  },
  {
   "cell_type": "markdown",
   "metadata": {},
   "source": [
    "## Schritt für Schritt überprüfen\n",
    "\n",
    "Sie können Ihre Lösungen auch Schritt für Schritt überprüfen. Sie müssen nicht die kürzeste Lösung eingeben. Das hat den Vorteil das Sie direkt sehen in welchem Schritt Sie einen Fehler gemacht haben. Wir zeigen das gleich in den nächsten paar Zellen, wie man das angehen kann.\n",
    "\n",
    "**Tipp:** Sie können die Lösung zuvor sogar schon angeben. Das Tool erstellt dann daraus einen komplizierteren Term, und Sie können üben diesen zu vereinfachen. Da es hier nur um das Training geht, kann es helfen wenn Sie bereits wissen wo Sie hin möchten."
   ]
  },
  {
   "cell_type": "code",
   "execution_count": 4,
   "metadata": {},
   "outputs": [
    {
     "data": {
      "text/plain": [
       "'Vereinfache diesen Ausdruck: '"
      ]
     },
     "metadata": {},
     "output_type": "display_data"
    },
    {
     "data": {
      "text/latex": [
       "$\\displaystyle a^{\\frac{41}{6}} \\sqrt[5]{b} c^{\\frac{17}{5}} \\frac{c^{\\frac{3}{5}} e^{\\frac{5}{2}} \\frac{1}{e^{\\frac{5}{2}}} \\frac{1}{f^{\\frac{5}{3}}} \\frac{a^{\\frac{4}{5}} f^{\\frac{11}{4}}}{a^{\\frac{169}{30}}} \\sqrt[4]{d}}{\\sqrt[5]{b} \\sqrt[4]{d} f^{\\frac{13}{12}}}$"
      ],
      "text/plain": [
       "(a**(41/6)*b**(1/5)*c**(17/5))*(c**(3/5)*e**(5/2)*e**(-5/2)*f**(-5/3)*(a**(4/5)*f**(11/4)/a**(169/30))*d**(1/4)/(b**(1/5)*f**(13/12)*d**(1/4)))"
      ]
     },
     "metadata": {},
     "output_type": "display_data"
    }
   ],
   "source": [
    "ex = Exercise(a**2 * c**4)"
   ]
  },
  {
   "cell_type": "code",
   "execution_count": 5,
   "metadata": {},
   "outputs": [
    {
     "data": {
      "text/latex": [
       "$\\displaystyle \\frac{a^{2} c^{4} f^{5}}{f^{5}}$"
      ],
      "text/plain": [
       "a**2*c**4*f**5/(f**5)"
      ]
     },
     "metadata": {},
     "output_type": "display_data"
    }
   ],
   "source": [
    "expr = term(\"a**2 * c**4 * f**5 * (f**5)**(-1)\")\n",
    "display(expr)"
   ]
  },
  {
   "cell_type": "markdown",
   "metadata": {},
   "source": [
    "## Term als Zeichenkette eingeben\n",
    "\n",
    "Mit der Funktion `term(\"...\")` können Sie einen Term als Zeichenkette eingeben. Das kann Teilweise zu merkwürdigen Darstellungen kommen, da der Code hier keine Vereinfachungen vornehmen darf. Alternativ können Sie die Funktion `sympify(\"...\")` verwenden, diese vereinfacht den Term aber bereits so weit das Sie die Lösung erhalten."
   ]
  },
  {
   "cell_type": "code",
   "execution_count": null,
   "metadata": {},
   "outputs": [],
   "source": []
  }
 ],
 "metadata": {
  "kernelspec": {
   "display_name": "Python 3",
   "language": "python",
   "name": "python3"
  },
  "language_info": {
   "codemirror_mode": {
    "name": "ipython",
    "version": 3
   },
   "file_extension": ".py",
   "mimetype": "text/x-python",
   "name": "python",
   "nbconvert_exporter": "python",
   "pygments_lexer": "ipython3",
   "version": "3.10.8"
  },
  "orig_nbformat": 4,
  "vscode": {
   "interpreter": {
    "hash": "31f2aee4e71d21fbe5cf8b01ff0e069b9275f58929596ceb00d14d90e3e16cd6"
   }
  }
 },
 "nbformat": 4,
 "nbformat_minor": 2
}

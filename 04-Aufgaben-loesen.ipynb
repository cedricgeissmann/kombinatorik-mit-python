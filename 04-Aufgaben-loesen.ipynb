{
 "cells": [
  {
   "cell_type": "markdown",
   "metadata": {},
   "source": [
    "# Aufgaben lösen\n",
    "\n",
    "Der Computer soll uns ja dabei helfen die Aufgaben bzw. die Probleme die in der Mathematik auftretten zu lösen. Dafür möchten wir die Probleme immer so allgemein wie möglich lösen, aber dennoch so das wir nicht zu viel Aufwand haben. Dafür nehmen wir als Beispiel die **Aufgabe 16** aus dem Skript.\n",
    "\n",
    "### Aufgabe 16\n",
    "\n",
    "Wieviele Wörter mit oder ohne Sinn gibt es mit 5 Grossbuchstaben?"
   ]
  },
  {
   "cell_type": "code",
   "execution_count": 5,
   "metadata": {},
   "outputs": [
    {
     "data": {
      "text/plain": [
       "11881376"
      ]
     },
     "execution_count": 5,
     "metadata": {},
     "output_type": "execute_result"
    }
   ],
   "source": [
    "from itertools import product\n",
    "from string import ascii_uppercase\n",
    "\n",
    "li = ascii_uppercase\n",
    "res = list(product(li, repeat=5))\n",
    "len(res)"
   ]
  },
  {
   "cell_type": "markdown",
   "metadata": {},
   "source": [
    "Damit haben wir die Aufgabe gelöst, aber sehr spezifisch. Wir haben Sie genau für die Vorgaben gelöst die wir erhalten haben. Das ist jedoch nicht unser Ziel. Normalerweise sind wir daran interessiert eine Aufgabe möglichst allgemein zu lösen, wie können wir das machen.\n",
    "\n",
    "## Verallgemeinerung einer Problemstellung\n",
    "\n",
    "Bei der Aufgabe oben fällt gleich auf das man auch mehr wie nur 5 Buchstaben nehmen kann. Wir können also die Anzahl der Wiederholungen als Parameter betrachten. Ausserdem können wir nicht einfach das Alphabet nehmen, sondern eine Anzahl unterscheidbarer Zeichen. Das wäre der zweite Parameter.\n",
    "\n",
    "Eine bessere Lösung könnte also so aussehen:"
   ]
  },
  {
   "cell_type": "code",
   "execution_count": 1,
   "metadata": {},
   "outputs": [
    {
     "name": "stdout",
     "output_type": "stream",
     "text": [
      "11881376\n",
      "16777216\n"
     ]
    }
   ],
   "source": [
    "from itertools import product\n",
    "\n",
    "def aufgabe_16(len_alphabet, num_repeats):\n",
    "    li = range(0, len_alphabet)\n",
    "    res = list(product(li, repeat=num_repeats))\n",
    "    return len(res)\n",
    "\n",
    "print(aufgabe_16(26, 5))\n",
    "print(aufgabe_16(16, 6))"
   ]
  },
  {
   "cell_type": "markdown",
   "metadata": {},
   "source": [
    "Sie können hier sehen das dies zwar eine Lösung ist für das Problem, und das es auch allgemein ist, aber es ist nicht ganz praktikabel, denn es geht sehr lange all die Kombinationen zu erstellen. Deshalb ist es hier besser sich auf die reine Anzahl zu fokusieren, und diese allgemein zu berechnen.\n",
    "\n",
    "Eine andere Lösung für das Problem ist die folgende Zelle:"
   ]
  },
  {
   "cell_type": "code",
   "execution_count": 3,
   "metadata": {},
   "outputs": [
    {
     "name": "stdout",
     "output_type": "stream",
     "text": [
      "11881376\n",
      "16777216\n"
     ]
    }
   ],
   "source": [
    "def aufgabe_16(len_alphabet, num_repeats):\n",
    "    return len_alphabet ** num_repeats\n",
    "\n",
    "print(aufgabe_16(26, 5))\n",
    "print(aufgabe_16(16, 6))"
   ]
  },
  {
   "cell_type": "markdown",
   "metadata": {},
   "source": [
    "## Anderer Fokus\n",
    "\n",
    "Bei der letzten Lösung, sind Sie nur noch an der Anzahl interessiert. Es gibt hier also einen ganz andere Fokus für die Aufgabe. Sie sehen auch das die Lösung sehr einfach ist, denn es ist einfach die Produktregel. Weshalb haben wir es dennoch zuerst anders gelöst? In der Mathematik geht es oft um die Denkprozesse und nicht um die Lösung selbst. Betrachten wir das Problem auf einem kleinen Alphabet mit wenig Wiederholungen, ist es praktisch die einzelnen Elemente anzusehen, das kann beim Lösungsprozess helfen. Davon kann dann eine allgemeine Lösung erstellt werden, falls es mit dem Code Probleme gibt."
   ]
  },
  {
   "cell_type": "markdown",
   "metadata": {},
   "source": [
    "## Lösungen überprüfen\n",
    "\n",
    "Wenn wir Probleme allgemein lösen, dann können wir auch mehrere Lösungen betrachten. Also was sind die Resultate bei verschiedenen Eingaben. Deshalb sollen die Funktionen auch so wie oben erstellt werden. Um zu überprüfen ob eine Aufgabe richtig sein kann, können Sie aus `solutions.py` importieren, und prüfen ob die richtigen Resultate zu den Eingaben heraus kommen."
   ]
  },
  {
   "cell_type": "code",
   "execution_count": 4,
   "metadata": {},
   "outputs": [
    {
     "name": "stdout",
     "output_type": "stream",
     "text": [
      "Alles richtig!!!\n"
     ]
    }
   ],
   "source": [
    "from solutions import sol_aufgabe_16\n",
    "\n",
    "sol_aufgabe_16(aufgabe_16)"
   ]
  },
  {
   "cell_type": "markdown",
   "metadata": {},
   "source": [
    "## Falsche Lösungswege\n",
    "\n",
    "Wenn wir falsch programmieren oder einfach einen falschen Lösungsweg haben, dann werden Fehler erscheinen. In der Zelle unten wird dies demonstriert.\n",
    "\n",
    "Wir erstellen nochmals eine Aufgabe 16. Diese Funktion akzeptiert wieder 2 Parameter, gibt aber einfach immer den Wert 0 zurück. Wir werden dann darüber informiert das unsere Lösung flasch ist, und was der erwartete Wert gewesen wäre."
   ]
  },
  {
   "cell_type": "code",
   "execution_count": 5,
   "metadata": {},
   "outputs": [
    {
     "name": "stdout",
     "output_type": "stream",
     "text": [
      "Es ist ein Fehler aufgetretten!!!\n",
      "Für 12 und 4 wird 20736 erwartet, nicht 0\n"
     ]
    }
   ],
   "source": [
    "from solutions import sol_aufgabe_16\n",
    "\n",
    "def aufgabe_16(a, b):\n",
    "    return 0\n",
    "\n",
    "sol_aufgabe_16(aufgabe_16)"
   ]
  },
  {
   "cell_type": "markdown",
   "metadata": {},
   "source": [
    "In den Lösungen wird überprüft was das Resultat bei verschiedenen Eingaben sein soll. Haben Sie die Aufgabe richtig gelöst, dann sollten alle Eingaben richtig sein. Ansonsten haben Sie einen Hinweis das Sie etwas nicht ganz richtig gemacht haben."
   ]
  }
 ],
 "metadata": {
  "interpreter": {
   "hash": "4e1d9a8909477db77738c33245c29c7265277ef753467dede8cf3f814cde494e"
  },
  "kernelspec": {
   "display_name": "Python 3.10.5 64-bit",
   "language": "python",
   "name": "python3"
  },
  "language_info": {
   "codemirror_mode": {
    "name": "ipython",
    "version": 3
   },
   "file_extension": ".py",
   "mimetype": "text/x-python",
   "name": "python",
   "nbconvert_exporter": "python",
   "pygments_lexer": "ipython3",
   "version": "3.10.7"
  },
  "orig_nbformat": 4
 },
 "nbformat": 4,
 "nbformat_minor": 2
}
